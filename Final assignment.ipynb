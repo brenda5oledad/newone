{
  "metadata": {
    "language_info": {
      "codemirror_mode": {
        "name": "python",
        "version": 3
      },
      "file_extension": ".py",
      "mimetype": "text/x-python",
      "name": "python",
      "nbconvert_exporter": "python",
      "pygments_lexer": "ipython3",
      "version": "3.8"
    },
    "kernelspec": {
      "name": "python",
      "display_name": "Python (Pyodide)",
      "language": "python"
    }
  },
  "nbformat_minor": 4,
  "nbformat": 4,
  "cells": [
    {
      "cell_type": "markdown",
      "source": "### Jupyterlite Notebook \n##### Brenda Soledad",
      "metadata": {}
    },
    {
      "cell_type": "markdown",
      "source": "This is The Final Assignment of the 6th Week of Module 2: Tools for Data Science. The pupose of this assignment is to demostrate the learned Jupyter skills. This task will be graded for other peers.",
      "metadata": {}
    },
    {
      "cell_type": "markdown",
      "source": "List data science languages\n- R\n- Python\n- SQL\n- Julia\n- Java\n- Scala",
      "metadata": {}
    },
    {
      "cell_type": "markdown",
      "source": "List data science libraries\n\n- Pandas \n- NumPy\n- Matplotlib\n- Seaborn\n- Scikit-lear\n- Keras\n- TensorFlow\n- PyTorch\n- ggplo2\n",
      "metadata": {}
    },
    {
      "cell_type": "markdown",
      "source": "|Data Science tools| \n| --- |\nR Studio\nJupyter\nGitHub\nMatlab",
      "metadata": {}
    },
    {
      "cell_type": "markdown",
      "source": "A markdown for aritmethic expression examples\n\n$ \\sum \\limits _{i=1} ^{3}{(3i*8)+2(1+\\frac{5}{7}i)} $\n\n$\\hat{Y} = \\hat{\\beta}_{0} + \\sum \\limits _{j=1} ^{p} X_{j}\\hat{\\beta}_{j} $",
      "metadata": {}
    },
    {
      "cell_type": "code",
      "source": "#Code cell to multiply and add numbers\n(8*(3+2))",
      "metadata": {
        "trusted": true
      },
      "execution_count": 21,
      "outputs": [
        {
          "execution_count": 21,
          "output_type": "execute_result",
          "data": {
            "text/plain": "40"
          },
          "metadata": {}
        }
      ]
    },
    {
      "cell_type": "code",
      "source": "#Code cell to convert minutes to hours\nx = 180 #minutes\ny = (x/60)\nprint(y)",
      "metadata": {
        "trusted": true
      },
      "execution_count": 20,
      "outputs": [
        {
          "name": "stdout",
          "text": "3.0\n",
          "output_type": "stream"
        }
      ]
    },
    {
      "cell_type": "markdown",
      "source": "Objetives:\n\n1. To learn about Data Science tools\n2. To learn about Data Cloud tools for Data Science\n3. To know DS languages\n4. To know DS libraries\n5. To know Jupyter Notebook\n6. To know Jupyter environment\n7. To know R Studio\n8. To know GitHub",
      "metadata": {}
    },
    {
      "cell_type": "markdown",
      "source": "Author: Brenda Soledad",
      "metadata": {}
    },
    {
      "cell_type": "code",
      "source": "",
      "metadata": {},
      "execution_count": null,
      "outputs": []
    }
  ]
}